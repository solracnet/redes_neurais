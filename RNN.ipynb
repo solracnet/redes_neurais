{
  "cells": [
    {
      "cell_type": "markdown",
      "metadata": {
        "id": "k8K70Mebuy5W"
      },
      "source": [
        "# Problema:  Prever se um cliente vai cancelar sua assinatura"
      ]
    },
    {
      "cell_type": "markdown",
      "metadata": {
        "id": "-YaS8AiWY2XZ"
      },
      "source": [
        "# Estrutura das variáveis\n",
        "\n",
        "\n",
        "*   **Estado:** O estado de onde o cliente é originário\n",
        "*   **Tempo de conta:** Número de dias que o cliente está usando os serviços\n",
        "*   **Código de área:** A área de onde o cliente é originário\n",
        "*   **Número de telefone:** O número de telefone do cliente\n",
        "*   **Plano internacional:** O status do plano internacional do cliente\n",
        "*   **Plano de correio de voz:** O status do plano de correio de voz do cliente\n",
        "*   **Número de mensagens de correio de voz:** Número de mensagens de correio de voz enviadas pelo cliente\n",
        "*   **Total de minutos diurnos:** Total de minutos de chamadas feitos por um cliente durante o dia\n",
        "*   **Total de chamadas diurnas:** Número total de chamadas feitas por um cliente durante o dia\n",
        "*   **Total de cobranças diurnas:** Valor total cobrado a um cliente **durante** o dia\n",
        "*   **Total de minutos vespertinos:** Total de minutos de chamadas feitos por um cliente durante a tarde\n",
        "*   **Total de chamadas vespertinas:** Número total de chamadas feitas por um cliente durante a tarde\n",
        "*   **Total de cobranças vespertinas:** Valor total cobrado a um cliente durante a tarde\n",
        "*   **Total de minutos noturnos:** Total de minutos de chamadas feitos por um cliente durante a noite\n",
        "*   **Total de chamadas noturnas:** Número total de chamadas feitas por um cliente durante a noite\n",
        "*   **Total de cobranças noturnas:** Valor total cobrado a um cliente durante a noite\n",
        "*   **Total de minutos internacionais:** Total de minutos de chamadas internacionais feitas por um cliente\n",
        "*   **Total de chamadas internacionais:** Número total de chamadas internacionais feitas por um cliente\n",
        "*   **Total de cobranças internacionais:** Valor total cobrado por chamadas internacionais feitas por um cliente\n",
        "*   **Chamadas ao serviço de atendimento ao cliente:** Número total de chamadas feitas ao serviço de atendimento ao cliente\n",
        "*   **Cancelamento:** Cancelado ou não\n",
        "\n",
        "https://github.com/kuldeep1909/Sony-Research-Machine-Learning-Project"
      ]
    },
    {
      "cell_type": "code",
      "execution_count": 18,
      "metadata": {
        "colab": {
          "base_uri": "https://localhost:8080/"
        },
        "id": "ms46HPyxlXSp",
        "outputId": "4cbf9fd8-5b8c-49fe-caf3-39bdf9c40046"
      },
      "outputs": [
        {
          "name": "stdout",
          "output_type": "stream",
          "text": [
            "Requirement already satisfied: torchmetrics in /home/carlos/anaconda3/lib/python3.12/site-packages (1.7.1)\n",
            "Requirement already satisfied: numpy>1.20.0 in /home/carlos/anaconda3/lib/python3.12/site-packages (from torchmetrics) (1.26.4)\n",
            "Requirement already satisfied: packaging>17.1 in /home/carlos/anaconda3/lib/python3.12/site-packages (from torchmetrics) (23.2)\n",
            "Requirement already satisfied: torch>=2.0.0 in /home/carlos/anaconda3/lib/python3.12/site-packages (from torchmetrics) (2.7.0)\n",
            "Requirement already satisfied: lightning-utilities>=0.8.0 in /home/carlos/anaconda3/lib/python3.12/site-packages (from torchmetrics) (0.14.3)\n",
            "Requirement already satisfied: setuptools in /home/carlos/anaconda3/lib/python3.12/site-packages (from lightning-utilities>=0.8.0->torchmetrics) (69.5.1)\n",
            "Requirement already satisfied: typing_extensions in /home/carlos/anaconda3/lib/python3.12/site-packages (from lightning-utilities>=0.8.0->torchmetrics) (4.11.0)\n",
            "Requirement already satisfied: filelock in /home/carlos/anaconda3/lib/python3.12/site-packages (from torch>=2.0.0->torchmetrics) (3.13.1)\n",
            "Requirement already satisfied: sympy>=1.13.3 in /home/carlos/anaconda3/lib/python3.12/site-packages (from torch>=2.0.0->torchmetrics) (1.14.0)\n",
            "Requirement already satisfied: networkx in /home/carlos/anaconda3/lib/python3.12/site-packages (from torch>=2.0.0->torchmetrics) (3.2.1)\n",
            "Requirement already satisfied: jinja2 in /home/carlos/anaconda3/lib/python3.12/site-packages (from torch>=2.0.0->torchmetrics) (3.1.4)\n",
            "Requirement already satisfied: fsspec in /home/carlos/anaconda3/lib/python3.12/site-packages (from torch>=2.0.0->torchmetrics) (2024.3.1)\n",
            "Requirement already satisfied: nvidia-cuda-nvrtc-cu12==12.6.77 in /home/carlos/anaconda3/lib/python3.12/site-packages (from torch>=2.0.0->torchmetrics) (12.6.77)\n",
            "Requirement already satisfied: nvidia-cuda-runtime-cu12==12.6.77 in /home/carlos/anaconda3/lib/python3.12/site-packages (from torch>=2.0.0->torchmetrics) (12.6.77)\n",
            "Requirement already satisfied: nvidia-cuda-cupti-cu12==12.6.80 in /home/carlos/anaconda3/lib/python3.12/site-packages (from torch>=2.0.0->torchmetrics) (12.6.80)\n",
            "Requirement already satisfied: nvidia-cudnn-cu12==9.5.1.17 in /home/carlos/anaconda3/lib/python3.12/site-packages (from torch>=2.0.0->torchmetrics) (9.5.1.17)\n",
            "Requirement already satisfied: nvidia-cublas-cu12==12.6.4.1 in /home/carlos/anaconda3/lib/python3.12/site-packages (from torch>=2.0.0->torchmetrics) (12.6.4.1)\n",
            "Requirement already satisfied: nvidia-cufft-cu12==11.3.0.4 in /home/carlos/anaconda3/lib/python3.12/site-packages (from torch>=2.0.0->torchmetrics) (11.3.0.4)\n",
            "Requirement already satisfied: nvidia-curand-cu12==10.3.7.77 in /home/carlos/anaconda3/lib/python3.12/site-packages (from torch>=2.0.0->torchmetrics) (10.3.7.77)\n",
            "Requirement already satisfied: nvidia-cusolver-cu12==11.7.1.2 in /home/carlos/anaconda3/lib/python3.12/site-packages (from torch>=2.0.0->torchmetrics) (11.7.1.2)\n",
            "Requirement already satisfied: nvidia-cusparse-cu12==12.5.4.2 in /home/carlos/anaconda3/lib/python3.12/site-packages (from torch>=2.0.0->torchmetrics) (12.5.4.2)\n",
            "Requirement already satisfied: nvidia-cusparselt-cu12==0.6.3 in /home/carlos/anaconda3/lib/python3.12/site-packages (from torch>=2.0.0->torchmetrics) (0.6.3)\n",
            "Requirement already satisfied: nvidia-nccl-cu12==2.26.2 in /home/carlos/anaconda3/lib/python3.12/site-packages (from torch>=2.0.0->torchmetrics) (2.26.2)\n",
            "Requirement already satisfied: nvidia-nvtx-cu12==12.6.77 in /home/carlos/anaconda3/lib/python3.12/site-packages (from torch>=2.0.0->torchmetrics) (12.6.77)\n",
            "Requirement already satisfied: nvidia-nvjitlink-cu12==12.6.85 in /home/carlos/anaconda3/lib/python3.12/site-packages (from torch>=2.0.0->torchmetrics) (12.6.85)\n",
            "Requirement already satisfied: nvidia-cufile-cu12==1.11.1.6 in /home/carlos/anaconda3/lib/python3.12/site-packages (from torch>=2.0.0->torchmetrics) (1.11.1.6)\n",
            "Requirement already satisfied: triton==3.3.0 in /home/carlos/anaconda3/lib/python3.12/site-packages (from torch>=2.0.0->torchmetrics) (3.3.0)\n",
            "Requirement already satisfied: mpmath<1.4,>=1.1.0 in /home/carlos/anaconda3/lib/python3.12/site-packages (from sympy>=1.13.3->torch>=2.0.0->torchmetrics) (1.3.0)\n",
            "Requirement already satisfied: MarkupSafe>=2.0 in /home/carlos/anaconda3/lib/python3.12/site-packages (from jinja2->torch>=2.0.0->torchmetrics) (2.1.3)\n",
            "Note: you may need to restart the kernel to use updated packages.\n"
          ]
        }
      ],
      "source": [
        "#!pip install pandas\n",
        "#!pip install numpy\n",
        "#!pip install matplotlib\n",
        "#!pip install seaborn\n",
        "#!pip install scikit-learn\n",
        "#!pip install jupyter\n",
        "#!pip install shap\n",
        "%pip install torchmetrics"
      ]
    },
    {
      "cell_type": "code",
      "execution_count": 19,
      "metadata": {
        "id": "gUmWnZ_FYdL8"
      },
      "outputs": [],
      "source": [
        "import numpy as np\n",
        "import pandas as pd\n",
        "\n",
        "import torch\n",
        "import torch.nn as nn\n",
        "import torch.nn.functional as F\n",
        "import torchmetrics\n",
        "from torch.utils.data import TensorDataset, DataLoader\n",
        "\n",
        "from sklearn.model_selection import train_test_split\n",
        "from sklearn.metrics import accuracy_score\n",
        "from sklearn.metrics import precision_score\n",
        "from sklearn.metrics import recall_score\n",
        "from sklearn.metrics import f1_score\n",
        "from sklearn.linear_model import LogisticRegression\n",
        "\n",
        "import warnings\n",
        "warnings.filterwarnings('ignore')"
      ]
    },
    {
      "cell_type": "code",
      "execution_count": 20,
      "metadata": {
        "id": "DE4dlmH3lzBf"
      },
      "outputs": [],
      "source": [
        "X_train = pd.read_csv(\"X_train.csv\")\n",
        "X_test = pd.read_csv(\"X_test.csv\")\n",
        "\n",
        "y_train = pd.read_csv(\"y_train.csv\")\n",
        "y_test = pd.read_csv(\"y_test.csv\")"
      ]
    },
    {
      "cell_type": "code",
      "execution_count": 21,
      "metadata": {
        "colab": {
          "base_uri": "https://localhost:8080/"
        },
        "id": "zobxq8OiteUU",
        "outputId": "bfe894f2-ecda-4c43-8065-cbec988fa255"
      },
      "outputs": [
        {
          "data": {
            "text/plain": [
              "(2666, 15)"
            ]
          },
          "execution_count": 21,
          "metadata": {},
          "output_type": "execute_result"
        }
      ],
      "source": [
        "X_train.shape"
      ]
    },
    {
      "cell_type": "code",
      "execution_count": 22,
      "metadata": {
        "colab": {
          "base_uri": "https://localhost:8080/",
          "height": 80
        },
        "id": "p7oyJP0hyT0s",
        "outputId": "dfa5939d-1dcb-4f56-9cfb-42c74717fb6e"
      },
      "outputs": [
        {
          "data": {
            "text/html": [
              "<style>#sk-container-id-2 {\n",
              "  /* Definition of color scheme common for light and dark mode */\n",
              "  --sklearn-color-text: black;\n",
              "  --sklearn-color-line: gray;\n",
              "  /* Definition of color scheme for unfitted estimators */\n",
              "  --sklearn-color-unfitted-level-0: #fff5e6;\n",
              "  --sklearn-color-unfitted-level-1: #f6e4d2;\n",
              "  --sklearn-color-unfitted-level-2: #ffe0b3;\n",
              "  --sklearn-color-unfitted-level-3: chocolate;\n",
              "  /* Definition of color scheme for fitted estimators */\n",
              "  --sklearn-color-fitted-level-0: #f0f8ff;\n",
              "  --sklearn-color-fitted-level-1: #d4ebff;\n",
              "  --sklearn-color-fitted-level-2: #b3dbfd;\n",
              "  --sklearn-color-fitted-level-3: cornflowerblue;\n",
              "\n",
              "  /* Specific color for light theme */\n",
              "  --sklearn-color-text-on-default-background: var(--sg-text-color, var(--theme-code-foreground, var(--jp-content-font-color1, black)));\n",
              "  --sklearn-color-background: var(--sg-background-color, var(--theme-background, var(--jp-layout-color0, white)));\n",
              "  --sklearn-color-border-box: var(--sg-text-color, var(--theme-code-foreground, var(--jp-content-font-color1, black)));\n",
              "  --sklearn-color-icon: #696969;\n",
              "\n",
              "  @media (prefers-color-scheme: dark) {\n",
              "    /* Redefinition of color scheme for dark theme */\n",
              "    --sklearn-color-text-on-default-background: var(--sg-text-color, var(--theme-code-foreground, var(--jp-content-font-color1, white)));\n",
              "    --sklearn-color-background: var(--sg-background-color, var(--theme-background, var(--jp-layout-color0, #111)));\n",
              "    --sklearn-color-border-box: var(--sg-text-color, var(--theme-code-foreground, var(--jp-content-font-color1, white)));\n",
              "    --sklearn-color-icon: #878787;\n",
              "  }\n",
              "}\n",
              "\n",
              "#sk-container-id-2 {\n",
              "  color: var(--sklearn-color-text);\n",
              "}\n",
              "\n",
              "#sk-container-id-2 pre {\n",
              "  padding: 0;\n",
              "}\n",
              "\n",
              "#sk-container-id-2 input.sk-hidden--visually {\n",
              "  border: 0;\n",
              "  clip: rect(1px 1px 1px 1px);\n",
              "  clip: rect(1px, 1px, 1px, 1px);\n",
              "  height: 1px;\n",
              "  margin: -1px;\n",
              "  overflow: hidden;\n",
              "  padding: 0;\n",
              "  position: absolute;\n",
              "  width: 1px;\n",
              "}\n",
              "\n",
              "#sk-container-id-2 div.sk-dashed-wrapped {\n",
              "  border: 1px dashed var(--sklearn-color-line);\n",
              "  margin: 0 0.4em 0.5em 0.4em;\n",
              "  box-sizing: border-box;\n",
              "  padding-bottom: 0.4em;\n",
              "  background-color: var(--sklearn-color-background);\n",
              "}\n",
              "\n",
              "#sk-container-id-2 div.sk-container {\n",
              "  /* jupyter's `normalize.less` sets `[hidden] { display: none; }`\n",
              "     but bootstrap.min.css set `[hidden] { display: none !important; }`\n",
              "     so we also need the `!important` here to be able to override the\n",
              "     default hidden behavior on the sphinx rendered scikit-learn.org.\n",
              "     See: https://github.com/scikit-learn/scikit-learn/issues/21755 */\n",
              "  display: inline-block !important;\n",
              "  position: relative;\n",
              "}\n",
              "\n",
              "#sk-container-id-2 div.sk-text-repr-fallback {\n",
              "  display: none;\n",
              "}\n",
              "\n",
              "div.sk-parallel-item,\n",
              "div.sk-serial,\n",
              "div.sk-item {\n",
              "  /* draw centered vertical line to link estimators */\n",
              "  background-image: linear-gradient(var(--sklearn-color-text-on-default-background), var(--sklearn-color-text-on-default-background));\n",
              "  background-size: 2px 100%;\n",
              "  background-repeat: no-repeat;\n",
              "  background-position: center center;\n",
              "}\n",
              "\n",
              "/* Parallel-specific style estimator block */\n",
              "\n",
              "#sk-container-id-2 div.sk-parallel-item::after {\n",
              "  content: \"\";\n",
              "  width: 100%;\n",
              "  border-bottom: 2px solid var(--sklearn-color-text-on-default-background);\n",
              "  flex-grow: 1;\n",
              "}\n",
              "\n",
              "#sk-container-id-2 div.sk-parallel {\n",
              "  display: flex;\n",
              "  align-items: stretch;\n",
              "  justify-content: center;\n",
              "  background-color: var(--sklearn-color-background);\n",
              "  position: relative;\n",
              "}\n",
              "\n",
              "#sk-container-id-2 div.sk-parallel-item {\n",
              "  display: flex;\n",
              "  flex-direction: column;\n",
              "}\n",
              "\n",
              "#sk-container-id-2 div.sk-parallel-item:first-child::after {\n",
              "  align-self: flex-end;\n",
              "  width: 50%;\n",
              "}\n",
              "\n",
              "#sk-container-id-2 div.sk-parallel-item:last-child::after {\n",
              "  align-self: flex-start;\n",
              "  width: 50%;\n",
              "}\n",
              "\n",
              "#sk-container-id-2 div.sk-parallel-item:only-child::after {\n",
              "  width: 0;\n",
              "}\n",
              "\n",
              "/* Serial-specific style estimator block */\n",
              "\n",
              "#sk-container-id-2 div.sk-serial {\n",
              "  display: flex;\n",
              "  flex-direction: column;\n",
              "  align-items: center;\n",
              "  background-color: var(--sklearn-color-background);\n",
              "  padding-right: 1em;\n",
              "  padding-left: 1em;\n",
              "}\n",
              "\n",
              "\n",
              "/* Toggleable style: style used for estimator/Pipeline/ColumnTransformer box that is\n",
              "clickable and can be expanded/collapsed.\n",
              "- Pipeline and ColumnTransformer use this feature and define the default style\n",
              "- Estimators will overwrite some part of the style using the `sk-estimator` class\n",
              "*/\n",
              "\n",
              "/* Pipeline and ColumnTransformer style (default) */\n",
              "\n",
              "#sk-container-id-2 div.sk-toggleable {\n",
              "  /* Default theme specific background. It is overwritten whether we have a\n",
              "  specific estimator or a Pipeline/ColumnTransformer */\n",
              "  background-color: var(--sklearn-color-background);\n",
              "}\n",
              "\n",
              "/* Toggleable label */\n",
              "#sk-container-id-2 label.sk-toggleable__label {\n",
              "  cursor: pointer;\n",
              "  display: block;\n",
              "  width: 100%;\n",
              "  margin-bottom: 0;\n",
              "  padding: 0.5em;\n",
              "  box-sizing: border-box;\n",
              "  text-align: center;\n",
              "}\n",
              "\n",
              "#sk-container-id-2 label.sk-toggleable__label-arrow:before {\n",
              "  /* Arrow on the left of the label */\n",
              "  content: \"▸\";\n",
              "  float: left;\n",
              "  margin-right: 0.25em;\n",
              "  color: var(--sklearn-color-icon);\n",
              "}\n",
              "\n",
              "#sk-container-id-2 label.sk-toggleable__label-arrow:hover:before {\n",
              "  color: var(--sklearn-color-text);\n",
              "}\n",
              "\n",
              "/* Toggleable content - dropdown */\n",
              "\n",
              "#sk-container-id-2 div.sk-toggleable__content {\n",
              "  max-height: 0;\n",
              "  max-width: 0;\n",
              "  overflow: hidden;\n",
              "  text-align: left;\n",
              "  /* unfitted */\n",
              "  background-color: var(--sklearn-color-unfitted-level-0);\n",
              "}\n",
              "\n",
              "#sk-container-id-2 div.sk-toggleable__content.fitted {\n",
              "  /* fitted */\n",
              "  background-color: var(--sklearn-color-fitted-level-0);\n",
              "}\n",
              "\n",
              "#sk-container-id-2 div.sk-toggleable__content pre {\n",
              "  margin: 0.2em;\n",
              "  border-radius: 0.25em;\n",
              "  color: var(--sklearn-color-text);\n",
              "  /* unfitted */\n",
              "  background-color: var(--sklearn-color-unfitted-level-0);\n",
              "}\n",
              "\n",
              "#sk-container-id-2 div.sk-toggleable__content.fitted pre {\n",
              "  /* unfitted */\n",
              "  background-color: var(--sklearn-color-fitted-level-0);\n",
              "}\n",
              "\n",
              "#sk-container-id-2 input.sk-toggleable__control:checked~div.sk-toggleable__content {\n",
              "  /* Expand drop-down */\n",
              "  max-height: 200px;\n",
              "  max-width: 100%;\n",
              "  overflow: auto;\n",
              "}\n",
              "\n",
              "#sk-container-id-2 input.sk-toggleable__control:checked~label.sk-toggleable__label-arrow:before {\n",
              "  content: \"▾\";\n",
              "}\n",
              "\n",
              "/* Pipeline/ColumnTransformer-specific style */\n",
              "\n",
              "#sk-container-id-2 div.sk-label input.sk-toggleable__control:checked~label.sk-toggleable__label {\n",
              "  color: var(--sklearn-color-text);\n",
              "  background-color: var(--sklearn-color-unfitted-level-2);\n",
              "}\n",
              "\n",
              "#sk-container-id-2 div.sk-label.fitted input.sk-toggleable__control:checked~label.sk-toggleable__label {\n",
              "  background-color: var(--sklearn-color-fitted-level-2);\n",
              "}\n",
              "\n",
              "/* Estimator-specific style */\n",
              "\n",
              "/* Colorize estimator box */\n",
              "#sk-container-id-2 div.sk-estimator input.sk-toggleable__control:checked~label.sk-toggleable__label {\n",
              "  /* unfitted */\n",
              "  background-color: var(--sklearn-color-unfitted-level-2);\n",
              "}\n",
              "\n",
              "#sk-container-id-2 div.sk-estimator.fitted input.sk-toggleable__control:checked~label.sk-toggleable__label {\n",
              "  /* fitted */\n",
              "  background-color: var(--sklearn-color-fitted-level-2);\n",
              "}\n",
              "\n",
              "#sk-container-id-2 div.sk-label label.sk-toggleable__label,\n",
              "#sk-container-id-2 div.sk-label label {\n",
              "  /* The background is the default theme color */\n",
              "  color: var(--sklearn-color-text-on-default-background);\n",
              "}\n",
              "\n",
              "/* On hover, darken the color of the background */\n",
              "#sk-container-id-2 div.sk-label:hover label.sk-toggleable__label {\n",
              "  color: var(--sklearn-color-text);\n",
              "  background-color: var(--sklearn-color-unfitted-level-2);\n",
              "}\n",
              "\n",
              "/* Label box, darken color on hover, fitted */\n",
              "#sk-container-id-2 div.sk-label.fitted:hover label.sk-toggleable__label.fitted {\n",
              "  color: var(--sklearn-color-text);\n",
              "  background-color: var(--sklearn-color-fitted-level-2);\n",
              "}\n",
              "\n",
              "/* Estimator label */\n",
              "\n",
              "#sk-container-id-2 div.sk-label label {\n",
              "  font-family: monospace;\n",
              "  font-weight: bold;\n",
              "  display: inline-block;\n",
              "  line-height: 1.2em;\n",
              "}\n",
              "\n",
              "#sk-container-id-2 div.sk-label-container {\n",
              "  text-align: center;\n",
              "}\n",
              "\n",
              "/* Estimator-specific */\n",
              "#sk-container-id-2 div.sk-estimator {\n",
              "  font-family: monospace;\n",
              "  border: 1px dotted var(--sklearn-color-border-box);\n",
              "  border-radius: 0.25em;\n",
              "  box-sizing: border-box;\n",
              "  margin-bottom: 0.5em;\n",
              "  /* unfitted */\n",
              "  background-color: var(--sklearn-color-unfitted-level-0);\n",
              "}\n",
              "\n",
              "#sk-container-id-2 div.sk-estimator.fitted {\n",
              "  /* fitted */\n",
              "  background-color: var(--sklearn-color-fitted-level-0);\n",
              "}\n",
              "\n",
              "/* on hover */\n",
              "#sk-container-id-2 div.sk-estimator:hover {\n",
              "  /* unfitted */\n",
              "  background-color: var(--sklearn-color-unfitted-level-2);\n",
              "}\n",
              "\n",
              "#sk-container-id-2 div.sk-estimator.fitted:hover {\n",
              "  /* fitted */\n",
              "  background-color: var(--sklearn-color-fitted-level-2);\n",
              "}\n",
              "\n",
              "/* Specification for estimator info (e.g. \"i\" and \"?\") */\n",
              "\n",
              "/* Common style for \"i\" and \"?\" */\n",
              "\n",
              ".sk-estimator-doc-link,\n",
              "a:link.sk-estimator-doc-link,\n",
              "a:visited.sk-estimator-doc-link {\n",
              "  float: right;\n",
              "  font-size: smaller;\n",
              "  line-height: 1em;\n",
              "  font-family: monospace;\n",
              "  background-color: var(--sklearn-color-background);\n",
              "  border-radius: 1em;\n",
              "  height: 1em;\n",
              "  width: 1em;\n",
              "  text-decoration: none !important;\n",
              "  margin-left: 1ex;\n",
              "  /* unfitted */\n",
              "  border: var(--sklearn-color-unfitted-level-1) 1pt solid;\n",
              "  color: var(--sklearn-color-unfitted-level-1);\n",
              "}\n",
              "\n",
              ".sk-estimator-doc-link.fitted,\n",
              "a:link.sk-estimator-doc-link.fitted,\n",
              "a:visited.sk-estimator-doc-link.fitted {\n",
              "  /* fitted */\n",
              "  border: var(--sklearn-color-fitted-level-1) 1pt solid;\n",
              "  color: var(--sklearn-color-fitted-level-1);\n",
              "}\n",
              "\n",
              "/* On hover */\n",
              "div.sk-estimator:hover .sk-estimator-doc-link:hover,\n",
              ".sk-estimator-doc-link:hover,\n",
              "div.sk-label-container:hover .sk-estimator-doc-link:hover,\n",
              ".sk-estimator-doc-link:hover {\n",
              "  /* unfitted */\n",
              "  background-color: var(--sklearn-color-unfitted-level-3);\n",
              "  color: var(--sklearn-color-background);\n",
              "  text-decoration: none;\n",
              "}\n",
              "\n",
              "div.sk-estimator.fitted:hover .sk-estimator-doc-link.fitted:hover,\n",
              ".sk-estimator-doc-link.fitted:hover,\n",
              "div.sk-label-container:hover .sk-estimator-doc-link.fitted:hover,\n",
              ".sk-estimator-doc-link.fitted:hover {\n",
              "  /* fitted */\n",
              "  background-color: var(--sklearn-color-fitted-level-3);\n",
              "  color: var(--sklearn-color-background);\n",
              "  text-decoration: none;\n",
              "}\n",
              "\n",
              "/* Span, style for the box shown on hovering the info icon */\n",
              ".sk-estimator-doc-link span {\n",
              "  display: none;\n",
              "  z-index: 9999;\n",
              "  position: relative;\n",
              "  font-weight: normal;\n",
              "  right: .2ex;\n",
              "  padding: .5ex;\n",
              "  margin: .5ex;\n",
              "  width: min-content;\n",
              "  min-width: 20ex;\n",
              "  max-width: 50ex;\n",
              "  color: var(--sklearn-color-text);\n",
              "  box-shadow: 2pt 2pt 4pt #999;\n",
              "  /* unfitted */\n",
              "  background: var(--sklearn-color-unfitted-level-0);\n",
              "  border: .5pt solid var(--sklearn-color-unfitted-level-3);\n",
              "}\n",
              "\n",
              ".sk-estimator-doc-link.fitted span {\n",
              "  /* fitted */\n",
              "  background: var(--sklearn-color-fitted-level-0);\n",
              "  border: var(--sklearn-color-fitted-level-3);\n",
              "}\n",
              "\n",
              ".sk-estimator-doc-link:hover span {\n",
              "  display: block;\n",
              "}\n",
              "\n",
              "/* \"?\"-specific style due to the `<a>` HTML tag */\n",
              "\n",
              "#sk-container-id-2 a.estimator_doc_link {\n",
              "  float: right;\n",
              "  font-size: 1rem;\n",
              "  line-height: 1em;\n",
              "  font-family: monospace;\n",
              "  background-color: var(--sklearn-color-background);\n",
              "  border-radius: 1rem;\n",
              "  height: 1rem;\n",
              "  width: 1rem;\n",
              "  text-decoration: none;\n",
              "  /* unfitted */\n",
              "  color: var(--sklearn-color-unfitted-level-1);\n",
              "  border: var(--sklearn-color-unfitted-level-1) 1pt solid;\n",
              "}\n",
              "\n",
              "#sk-container-id-2 a.estimator_doc_link.fitted {\n",
              "  /* fitted */\n",
              "  border: var(--sklearn-color-fitted-level-1) 1pt solid;\n",
              "  color: var(--sklearn-color-fitted-level-1);\n",
              "}\n",
              "\n",
              "/* On hover */\n",
              "#sk-container-id-2 a.estimator_doc_link:hover {\n",
              "  /* unfitted */\n",
              "  background-color: var(--sklearn-color-unfitted-level-3);\n",
              "  color: var(--sklearn-color-background);\n",
              "  text-decoration: none;\n",
              "}\n",
              "\n",
              "#sk-container-id-2 a.estimator_doc_link.fitted:hover {\n",
              "  /* fitted */\n",
              "  background-color: var(--sklearn-color-fitted-level-3);\n",
              "}\n",
              "</style><div id=\"sk-container-id-2\" class=\"sk-top-container\"><div class=\"sk-text-repr-fallback\"><pre>LogisticRegression(max_iter=1000)</pre><b>In a Jupyter environment, please rerun this cell to show the HTML representation or trust the notebook. <br />On GitHub, the HTML representation is unable to render, please try loading this page with nbviewer.org.</b></div><div class=\"sk-container\" hidden><div class=\"sk-item\"><div class=\"sk-estimator fitted sk-toggleable\"><input class=\"sk-toggleable__control sk-hidden--visually\" id=\"sk-estimator-id-2\" type=\"checkbox\" checked><label for=\"sk-estimator-id-2\" class=\"sk-toggleable__label fitted sk-toggleable__label-arrow fitted\">&nbsp;&nbsp;LogisticRegression<a class=\"sk-estimator-doc-link fitted\" rel=\"noreferrer\" target=\"_blank\" href=\"https://scikit-learn.org/1.4/modules/generated/sklearn.linear_model.LogisticRegression.html\">?<span>Documentation for LogisticRegression</span></a><span class=\"sk-estimator-doc-link fitted\">i<span>Fitted</span></span></label><div class=\"sk-toggleable__content fitted\"><pre>LogisticRegression(max_iter=1000)</pre></div> </div></div></div></div>"
            ],
            "text/plain": [
              "LogisticRegression(max_iter=1000)"
            ]
          },
          "execution_count": 22,
          "metadata": {},
          "output_type": "execute_result"
        }
      ],
      "source": [
        "model =LogisticRegression(max_iter=1000, verbose=0)\n",
        "model.fit(X_train, y_train)"
      ]
    },
    {
      "cell_type": "code",
      "execution_count": 23,
      "metadata": {
        "id": "xjsFYtKwtTEs"
      },
      "outputs": [],
      "source": [
        "y_pred_train = model.predict(X_train)\n",
        "y_pred_test = model.predict(X_test)"
      ]
    },
    {
      "cell_type": "code",
      "execution_count": 24,
      "metadata": {
        "id": "8e3z92CbtTVi"
      },
      "outputs": [],
      "source": [
        "accuracy_train = accuracy_score(y_train, y_pred_train)\n",
        "precision_train = precision_score(y_train, y_pred_train)\n",
        "recall_train = recall_score(y_train, y_pred_train)\n",
        "f1_train = f1_score(y_train, y_pred_train)"
      ]
    },
    {
      "cell_type": "code",
      "execution_count": 25,
      "metadata": {
        "id": "05sv3CRBtW6k"
      },
      "outputs": [],
      "source": [
        "accuracy_test = accuracy_score(y_test, y_pred_test)\n",
        "precision_test = precision_score(y_test, y_pred_test)\n",
        "recall_test = recall_score(y_test, y_pred_test)\n",
        "f1_test = f1_score(y_test, y_pred_test)"
      ]
    },
    {
      "cell_type": "code",
      "execution_count": 26,
      "metadata": {
        "colab": {
          "base_uri": "https://localhost:8080/"
        },
        "id": "b63iHC4WyiIm",
        "outputId": "df54dd46-7662-4961-8761-93713bb7deca"
      },
      "outputs": [
        {
          "name": "stdout",
          "output_type": "stream",
          "text": [
            "Acurácia no conjunto de treino: 0.8657164291072769\n",
            "Precisão no conjunto de treino: 0.6555555555555556\n",
            "Recall no conjunto de treino: 0.15284974093264247\n",
            "F1-score no conjunto de treino: 0.24789915966386555\n",
            "\n",
            "Acurácia no conjunto de teste: 0.8875562218890555\n",
            "Precisão no conjunto de teste: 0.84375\n",
            "Recall no conjunto de teste: 0.27835051546391754\n",
            "F1-score no conjunto de teste: 0.4186046511627907\n"
          ]
        }
      ],
      "source": [
        "print(\"Acurácia no conjunto de treino:\", accuracy_train)\n",
        "print(\"Precisão no conjunto de treino:\", precision_train)\n",
        "print(\"Recall no conjunto de treino:\", recall_train)\n",
        "print(\"F1-score no conjunto de treino:\", f1_train)\n",
        "\n",
        "print(\"\\nAcurácia no conjunto de teste:\", accuracy_test)\n",
        "print(\"Precisão no conjunto de teste:\", precision_test)\n",
        "print(\"Recall no conjunto de teste:\", recall_test)\n",
        "print(\"F1-score no conjunto de teste:\", f1_test)"
      ]
    },
    {
      "cell_type": "code",
      "execution_count": 27,
      "metadata": {
        "colab": {
          "base_uri": "https://localhost:8080/"
        },
        "id": "Lea0aea9tiCD",
        "outputId": "bdc684df-ccee-4391-81f7-72971f70c9b7"
      },
      "outputs": [
        {
          "data": {
            "text/plain": [
              "array([[ 0.09433962,  0.        ,  1.        , ...,  0.15254237,\n",
              "         0.14820359,  0.04501263],\n",
              "       [-0.13207547,  0.        ,  0.        , ...,  0.16071429,\n",
              "         0.13609467,  0.04498945],\n",
              "       [-0.56603774,  0.        ,  1.        , ...,  0.12244898,\n",
              "         0.14678899,  0.045     ],\n",
              "       ...,\n",
              "       [ 0.0754717 ,  0.        ,  0.        , ...,  0.06896552,\n",
              "         0.14820359,  0.04500899],\n",
              "       [-0.58490566,  0.        ,  0.        , ...,  0.18518519,\n",
              "         0.13609467,  0.04498012],\n",
              "       [-0.39622642,  0.        ,  0.        , ...,  0.06666667,\n",
              "         0.13609467,  0.04498229]])"
            ]
          },
          "execution_count": 27,
          "metadata": {},
          "output_type": "execute_result"
        }
      ],
      "source": [
        "X_train.values"
      ]
    },
    {
      "cell_type": "code",
      "execution_count": 28,
      "metadata": {
        "id": "EsggzXpO0JL3"
      },
      "outputs": [],
      "source": [
        "# Converter X e y para torch.Tensor\n",
        "X_train_tensor = torch.tensor(X_train.values, dtype=torch.float32)\n",
        "y_train_tensor = torch.tensor(y_train.values, dtype=torch.float32).reshape(-1, 1)\n",
        "\n",
        "X_test_tensor = torch.tensor(X_test.values, dtype=torch.float32)\n",
        "y_test_tensor = torch.tensor(y_test.values, dtype=torch.float32).reshape(-1, 1)"
      ]
    },
    {
      "cell_type": "code",
      "execution_count": 29,
      "metadata": {
        "id": "0LPyG1lTzVwr"
      },
      "outputs": [],
      "source": [
        "class NeuralNetwork(nn.Module):\n",
        "    def __init__(self, input_dim, num_labels):\n",
        "        super(NeuralNetwork, self).__init__()\n",
        "        self.linear1 = nn.Linear(input_dim, 100)\n",
        "        self.relu = nn.ReLU()\n",
        "        self.dropout = nn.Dropout(0.1)\n",
        "        self.linear2 = nn.Linear(100, num_labels)\n",
        "        self.sigmoid = nn.Sigmoid()\n",
        "\n",
        "    def forward(self, x):\n",
        "        x = self.linear1(x)\n",
        "        x = self.relu(x)\n",
        "        x = self.dropout(x)\n",
        "        x = self.linear2(x)\n",
        "        x = self.sigmoid(x)\n",
        "        return x"
      ]
    },
    {
      "cell_type": "code",
      "execution_count": 30,
      "metadata": {
        "id": "kiP3Nbmt3L_G"
      },
      "outputs": [],
      "source": [
        "model = NeuralNetwork(15,1)"
      ]
    },
    {
      "cell_type": "code",
      "execution_count": 31,
      "metadata": {
        "id": "fr11wyA4N5Wp"
      },
      "outputs": [],
      "source": [
        "n_epochs = 5000\n",
        "learning_rate = 0.0001"
      ]
    },
    {
      "cell_type": "code",
      "execution_count": 32,
      "metadata": {
        "id": "qMdChbAg243_"
      },
      "outputs": [],
      "source": [
        "#Para saídas binárias com sigmoide\n",
        "criterion = nn.BCELoss()\n",
        "\n",
        "#Combina a sigmoide e a BCELoss\n",
        "#criterion = nn.BCEWithLogitsLoss()\n",
        "\n",
        "#Usado quando a saída é categórica (multiclasse), mas pode ser adaptada para classificação binária\n",
        "#se as saídas forem representadas de forma categórica (com dois neurônios de saída).\n",
        "#Não requer uma função sigmoide, pois aplica log_softmax internamente.\n",
        "#criterion = nn.CrossEntropyLoss()"
      ]
    },
    {
      "cell_type": "code",
      "execution_count": 33,
      "metadata": {
        "id": "5zbX71jtrgnu"
      },
      "outputs": [],
      "source": [
        "#Método básico de otimização\n",
        "#optimizer = torch.optim.SGD(model.parameters(), lr=learning_rate)\n",
        "\n",
        "optimizer = torch.optim.Adam(model.parameters(), lr=learning_rate)\n",
        "\n",
        "#Uma variante do Adam, mas com decaimento de peso \"correto\" (weight decay)\n",
        "#optimizer = torch.optim.AdamW(model.parameters(), lr=learning_rate, weight_decay=0.01)\n",
        "\n",
        "#Uma variação de SGD com uma taxa de aprendizado adaptativa\n",
        "#optimizer = torch.optim.RMSprop(model.parameters(), lr=learning_rate)"
      ]
    },
    {
      "cell_type": "code",
      "execution_count": 34,
      "metadata": {
        "colab": {
          "base_uri": "https://localhost:8080/"
        },
        "id": "fZlnHM_6J7D4",
        "outputId": "df12d72e-df5a-4ff4-987b-1b888c3775cc"
      },
      "outputs": [
        {
          "name": "stdout",
          "output_type": "stream",
          "text": [
            "Época [100/100], Loss: 0.7337\n",
            "Época [200/100], Loss: 0.6404\n",
            "Época [300/100], Loss: 0.5630\n",
            "Época [400/100], Loss: 0.5017\n",
            "Época [500/100], Loss: 0.4546\n",
            "Época [600/100], Loss: 0.4238\n",
            "Época [700/100], Loss: 0.4019\n",
            "Época [800/100], Loss: 0.3905\n",
            "Época [900/100], Loss: 0.3811\n",
            "Época [1000/100], Loss: 0.3743\n",
            "Época [1100/100], Loss: 0.3682\n",
            "Época [1200/100], Loss: 0.3636\n",
            "Época [1300/100], Loss: 0.3560\n",
            "Época [1400/100], Loss: 0.3527\n",
            "Época [1500/100], Loss: 0.3485\n",
            "Época [1600/100], Loss: 0.3428\n",
            "Época [1700/100], Loss: 0.3378\n",
            "Época [1800/100], Loss: 0.3318\n",
            "Época [1900/100], Loss: 0.3282\n",
            "Época [2000/100], Loss: 0.3254\n",
            "Época [2100/100], Loss: 0.3209\n",
            "Época [2200/100], Loss: 0.3145\n",
            "Época [2300/100], Loss: 0.3096\n",
            "Época [2400/100], Loss: 0.3079\n",
            "Época [2500/100], Loss: 0.3053\n",
            "Época [2600/100], Loss: 0.3009\n",
            "Época [2700/100], Loss: 0.2956\n",
            "Época [2800/100], Loss: 0.2936\n",
            "Época [2900/100], Loss: 0.2897\n",
            "Época [3000/100], Loss: 0.2862\n",
            "Época [3100/100], Loss: 0.2835\n",
            "Época [3200/100], Loss: 0.2823\n",
            "Época [3300/100], Loss: 0.2774\n",
            "Época [3400/100], Loss: 0.2747\n",
            "Época [3500/100], Loss: 0.2737\n",
            "Época [3600/100], Loss: 0.2693\n",
            "Época [3700/100], Loss: 0.2656\n",
            "Época [3800/100], Loss: 0.2642\n",
            "Época [3900/100], Loss: 0.2613\n",
            "Época [4000/100], Loss: 0.2583\n",
            "Época [4100/100], Loss: 0.2569\n",
            "Época [4200/100], Loss: 0.2568\n",
            "Época [4300/100], Loss: 0.2553\n",
            "Época [4400/100], Loss: 0.2518\n",
            "Época [4500/100], Loss: 0.2494\n",
            "Época [4600/100], Loss: 0.2429\n",
            "Época [4700/100], Loss: 0.2409\n",
            "Época [4800/100], Loss: 0.2419\n",
            "Época [4900/100], Loss: 0.2402\n",
            "Época [5000/100], Loss: 0.2387\n"
          ]
        }
      ],
      "source": [
        "for epoch in range(n_epochs):\n",
        "    model.train()\n",
        "\n",
        "    outputs = model(X_train_tensor)\n",
        "    loss = criterion(outputs, y_train_tensor)\n",
        "\n",
        "    optimizer.zero_grad()\n",
        "    loss.backward()\n",
        "    optimizer.step()\n",
        "\n",
        "    if (epoch+1) % 100 == 0:\n",
        "        print(f'Época [{epoch+1}/100], Loss: {loss.item():.4f}')"
      ]
    },
    {
      "cell_type": "markdown",
      "metadata": {
        "id": "OOiJVO3_R_TM"
      },
      "source": [
        "#### model.eval()\n",
        "\n",
        "Coloca o modelo em modo de avaliação. No modo de avaliação, a modelagem **desativa camadas como dropout e batch normalization**, que se comportam de maneira diferente durante o treinamento e a inferência. Além disso, neste modo, o **cálculo dos gradientes é desabilitado**, o que melhora a eficiência e evita a atualização acidental dos parâmetros."
      ]
    },
    {
      "cell_type": "code",
      "execution_count": 35,
      "metadata": {
        "colab": {
          "base_uri": "https://localhost:8080/"
        },
        "id": "_ScDGprWR_mj",
        "outputId": "617d4ad9-8f4b-4d47-fabf-10ba708cb381"
      },
      "outputs": [
        {
          "data": {
            "text/plain": [
              "NeuralNetwork(\n",
              "  (linear1): Linear(in_features=15, out_features=100, bias=True)\n",
              "  (relu): ReLU()\n",
              "  (dropout): Dropout(p=0.1, inplace=False)\n",
              "  (linear2): Linear(in_features=100, out_features=1, bias=True)\n",
              "  (sigmoid): Sigmoid()\n",
              ")"
            ]
          },
          "execution_count": 35,
          "metadata": {},
          "output_type": "execute_result"
        }
      ],
      "source": [
        "model.eval()"
      ]
    },
    {
      "cell_type": "code",
      "execution_count": 36,
      "metadata": {
        "id": "6tXhgDlNtvpM"
      },
      "outputs": [],
      "source": [
        "# Definindo o objeto para calcular a acurácia para uma tarefa binária\n",
        "accuracy = torchmetrics.Accuracy(task=\"binary\")\n",
        "precision = torchmetrics.Precision(task=\"binary\")\n",
        "recall = torchmetrics.Recall(task=\"binary\")\n",
        "f1 = torchmetrics.F1Score(task=\"binary\")"
      ]
    },
    {
      "cell_type": "code",
      "execution_count": 37,
      "metadata": {
        "id": "LslztU1ktzmC"
      },
      "outputs": [],
      "source": [
        "# Predições no conjunto de treino\n",
        "train_pred = model(X_train_tensor)\n",
        "train_pred = train_pred.detach()\n",
        "\n",
        "# Calcular a acurácia no conjunto de treino\n",
        "train_accuracy = accuracy(train_pred, y_train_tensor.int())\n",
        "train_precision = precision(train_pred, y_train_tensor.int())\n",
        "train_recall = recall(train_pred, y_train_tensor.int())\n",
        "train_f1 = f1(train_pred, y_train_tensor.int())"
      ]
    },
    {
      "cell_type": "code",
      "execution_count": 38,
      "metadata": {
        "id": "gVNgDr2Gt2gT"
      },
      "outputs": [],
      "source": [
        "# Predições no conjunto de teste\n",
        "test_pred = model(X_test_tensor)\n",
        "test_pred = test_pred.detach()\n",
        "\n",
        "# Calcular a acurácia no conjunto de teste\n",
        "test_accuracy = accuracy(test_pred, y_test_tensor.int())\n",
        "test_precision = precision(test_pred, y_test_tensor.int())\n",
        "test_recall = recall(test_pred, y_test_tensor.int())\n",
        "test_f1 = f1(test_pred, y_test_tensor.int())"
      ]
    },
    {
      "cell_type": "code",
      "execution_count": 39,
      "metadata": {
        "colab": {
          "base_uri": "https://localhost:8080/"
        },
        "id": "hGz26-p0T1wN",
        "outputId": "bf89861b-230f-45e5-bcc9-cad4d76fb3b0"
      },
      "outputs": [
        {
          "name": "stdout",
          "output_type": "stream",
          "text": [
            "Acurácia no conjunto de treino: 0.922355592250824\n",
            "Precisão no conjunto de treino: 0.9049773812294006\n",
            "Recall no conjunto de treino: 0.5181347131729126\n",
            "F1-score no conjunto de treino: 0.6589785814285278\n",
            "\n",
            "Acurácia no conjunto de teste: 0.9055472016334534\n",
            "Precisão no conjunto de teste: 0.8269230723381042\n",
            "Recall no conjunto de teste: 0.44329896569252014\n",
            "F1-score no conjunto de teste: 0.5771812200546265\n"
          ]
        }
      ],
      "source": [
        "print(\"Acurácia no conjunto de treino:\", train_accuracy.item())\n",
        "print(\"Precisão no conjunto de treino:\", train_precision.item())\n",
        "print(\"Recall no conjunto de treino:\", train_recall.item())\n",
        "print(\"F1-score no conjunto de treino:\", train_f1.item())\n",
        "\n",
        "print(\"\\nAcurácia no conjunto de teste:\", test_accuracy.item())\n",
        "print(\"Precisão no conjunto de teste:\", test_precision.item())\n",
        "print(\"Recall no conjunto de teste:\", test_recall.item())\n",
        "print(\"F1-score no conjunto de teste:\", test_f1.item())"
      ]
    }
  ],
  "metadata": {
    "colab": {
      "provenance": []
    },
    "kernelspec": {
      "display_name": "base",
      "language": "python",
      "name": "python3"
    },
    "language_info": {
      "codemirror_mode": {
        "name": "ipython",
        "version": 3
      },
      "file_extension": ".py",
      "mimetype": "text/x-python",
      "name": "python",
      "nbconvert_exporter": "python",
      "pygments_lexer": "ipython3",
      "version": "3.12.4"
    }
  },
  "nbformat": 4,
  "nbformat_minor": 0
}
